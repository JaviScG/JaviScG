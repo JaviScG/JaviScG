{
  "nbformat": 4,
  "nbformat_minor": 0,
  "metadata": {
    "colab": {
      "provenance": [],
      "authorship_tag": "ABX9TyNATmQcjvq7BVE7AG8xk6ud",
      "include_colab_link": true
    },
    "kernelspec": {
      "name": "python3",
      "display_name": "Python 3"
    },
    "language_info": {
      "name": "python"
    }
  },
  "cells": [
    {
      "cell_type": "markdown",
      "metadata": {
        "id": "view-in-github",
        "colab_type": "text"
      },
      "source": [
        "<a href=\"https://colab.research.google.com/github/JaviScG/JaviScG/blob/main/Personality_Models.ipynb\" target=\"_parent\"><img src=\"https://colab.research.google.com/assets/colab-badge.svg\" alt=\"Open In Colab\"/></a>"
      ]
    },
    {
      "cell_type": "code",
      "execution_count": null,
      "metadata": {
        "colab": {
          "base_uri": "https://localhost:8080/"
        },
        "id": "_5Nf9mW7LoXU",
        "outputId": "ac934ab0-1c35-4afe-d6ff-367415164621"
      },
      "outputs": [
        {
          "output_type": "stream",
          "name": "stdout",
          "text": [
            "Drive already mounted at /content/drive; to attempt to forcibly remount, call drive.mount(\"/content/drive\", force_remount=True).\n",
            "Codificación detectada: Windows-1252\n",
            "                            #AUTHID  \\\n",
            "0  b7b7764cfa1c523e4e93ab2a79a946c4   \n",
            "1  b7b7764cfa1c523e4e93ab2a79a946c4   \n",
            "2  b7b7764cfa1c523e4e93ab2a79a946c4   \n",
            "3  b7b7764cfa1c523e4e93ab2a79a946c4   \n",
            "4  b7b7764cfa1c523e4e93ab2a79a946c4   \n",
            "\n",
            "                                              STATUS  sEXT  sNEU  sAGR  sCON  \\\n",
            "0                        likes the sound of thunder.  2.65   3.0  3.15  3.25   \n",
            "1  is so sleepy it's not even funny that's she ca...  2.65   3.0  3.15  3.25   \n",
            "2  is sore and wants the knot of muscles at the b...  2.65   3.0  3.15  3.25   \n",
            "3         likes how the day sounds in this new song.  2.65   3.0  3.15  3.25   \n",
            "4                                        is home. <3  2.65   3.0  3.15  3.25   \n",
            "\n",
            "   sOPN cEXT cNEU cAGR cCON cOPN             DATE  NETWORKSIZE  BETWEENNESS  \\\n",
            "0   4.4    n    y    n    n    y  6/19/2009 15:21        180.0      14861.6   \n",
            "1   4.4    n    y    n    n    y    7/2/2009 8:41        180.0      14861.6   \n",
            "2   4.4    n    y    n    n    y  6/15/2009 13:15        180.0      14861.6   \n",
            "3   4.4    n    y    n    n    y   6/22/2009 4:48        180.0      14861.6   \n",
            "4   4.4    n    y    n    n    y   7/20/2009 2:31        180.0      14861.6   \n",
            "\n",
            "   NBETWEENNESS  DENSITY  BROKERAGE  NBROKERAGE  TRANSITIVITY  \n",
            "0         93.29     0.03    15661.0        0.49           0.1  \n",
            "1         93.29     0.03    15661.0        0.49           0.1  \n",
            "2         93.29     0.03    15661.0        0.49           0.1  \n",
            "3         93.29     0.03    15661.0        0.49           0.1  \n",
            "4         93.29     0.03    15661.0        0.49           0.1  \n"
          ]
        }
      ],
      "source": [
        "from google.colab import drive\n",
        "import pandas as pd\n",
        "\n",
        "# Montar Google Drive\n",
        "drive.mount('/content/drive')\n",
        "\n",
        "# Ruta del archivo CSV\n",
        "file_path = '/content/drive/MyDrive/Colab Notebooks/TFG_data/mypersonality_final.csv'\n",
        "\n",
        "# Cargar el CSV con la codificación detectada\n",
        "df = pd.read_csv(file_path, encoding='Windows-1252')\n",
        "\n",
        "\n"
      ]
    }
  ]
}